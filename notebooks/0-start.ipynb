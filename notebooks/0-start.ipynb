{
 "cells": [
  {
   "cell_type": "markdown",
   "source": [
    "# Start"
   ],
   "metadata": {
    "collapsed": false
   }
  },
  {
   "cell_type": "code",
   "execution_count": 2,
   "outputs": [],
   "source": [
    "import flatlib"
   ],
   "metadata": {
    "collapsed": false
   }
  },
  {
   "cell_type": "code",
   "execution_count": 3,
   "outputs": [
    {
     "data": {
      "text/plain": "<module 'flatlib' from '/home/noone/miniconda3/envs/torchtrader/lib/python3.10/site-packages/flatlib/__init__.py'>"
     },
     "execution_count": 3,
     "metadata": {},
     "output_type": "execute_result"
    }
   ],
   "source": [
    "from flatlib import aspects"
   ],
   "metadata": {
    "collapsed": false
   }
  },
  {
   "cell_type": "code",
   "execution_count": 4,
   "outputs": [
    {
     "name": "stdout",
     "output_type": "stream",
     "text": [
      "56.17348142648384\n",
      "56.74266694990504\n",
      "56.74266694990504\n",
      "56.17348142648384\n"
     ]
    },
    {
     "data": {
      "text/plain": "[[20.09110528512595, 'N_Moon_180', 'N_Pars Fortuna_0', 'M'],\n [20.402123631266498, 'N_Mercury_180', 'N_Jupiter_0', 'Z'],\n [20.46478499811794, 'D_South Node_90', 'N_Moon_0', 'Z'],\n [20.46478499811794, 'S_North Node_90', 'N_Moon_0', 'Z'],\n [20.565645951027307, 'T_Mars_Scorpio', 'N_North Node_0', 'M'],\n [20.565645951027307, 'T_Mars_Scorpio', 'N_North Node_0', 'Z'],\n [20.565645951027307, 'T_Venus_Taurus', 'N_South Node_0', 'M'],\n [20.565645951027307, 'T_Venus_Taurus', 'N_South Node_0', 'Z'],\n [20.61203962618804, 'N_Moon_180', 'N_Pars Fortuna_0', 'Z'],\n [21.0550232722503, 'S_Sun_90', 'N_Pars Fortuna_0', 'M'],\n [21.055037016780698, 'S_Sun_90', 'N_Pars Fortuna_0', 'Z'],\n [21.077187596168724, 'N_North Node_180', 'N_Sun_0', 'M'],\n [21.077187596168724, 'N_South Node_0', 'N_Sun_0', 'M'],\n [21.077208724355387, 'N_North Node_180', 'N_Sun_0', 'Z'],\n [21.077208724355387, 'N_South Node_0', 'N_Sun_0', 'Z'],\n [21.19659739115269, 'N_Mercury_180', 'N_Jupiter_0', 'M'],\n [21.389121294234982, 'S_Mercury_60', 'N_South Node_0', 'M'],\n [21.46151785170559, 'D_Venus_120', 'N_Saturn_0', 'M'],\n [21.46640571874964, 'D_Mercury_120', 'N_North Node_0', 'Z'],\n [21.46640571874964, 'S_Mercury_60', 'N_South Node_0', 'Z'],\n [21.54775327574937, 'D_Mercury_120', 'N_North Node_0', 'M'],\n [21.7630931126405, 'D_Moon_90', 'N_Asc_0', 'M'],\n [21.776994812538668, 'T_Mars_Virgo', 'N_Asc_0', 'M'],\n [21.776994812538668, 'T_Mars_Virgo', 'N_Asc_0', 'Z'],\n [21.996868438037655, 'D_Venus_120', 'N_Saturn_0', 'Z'],\n [22.011386708647212, 'T_Mars_Sagittarius', 'N_Saturn_0', 'M'],\n [22.06609543936138, 'T_Mercury_Aries', 'N_Sun_0', 'M'],\n [22.06611662846854, 'T_Mercury_Aries', 'N_Sun_0', 'Z'],\n [22.179774068428554, 'T_Venus_Capricorn', 'N_Moon_0', 'M'],\n [22.244969877409346, 'A_North Node', 'N_Mercury_0', 'Z'],\n [22.244969877409346, 'C_South Node', 'N_Mercury_0', 'Z'],\n [22.247763655475524, 'A_Jupiter', 'N_Venus_0', 'M'],\n [22.2653145834161, 'A_Jupiter', 'N_Venus_0', 'Z'],\n [22.36820396880692, 'T_Saturn_Gemini', 'N_Pars Fortuna_0', 'M'],\n [22.36820396880692, 'T_Saturn_Gemini', 'N_Pars Fortuna_0', 'Z'],\n [22.41814104685636, 'T_Mars_Pisces', 'N_Mercury_0', 'Z'],\n [22.537014577991872, 'T_Mars_Sagittarius', 'N_Saturn_0', 'Z'],\n [22.996017378034505, 'A_North Node', 'N_Mercury_0', 'M'],\n [22.996017378034505, 'C_South Node', 'N_Mercury_0', 'M'],\n [23.033210123322753, 'S_Pars Fortuna_90', 'N_Jupiter_0', 'Z'],\n [23.168832285195283, 'T_Mars_Pisces', 'N_Mercury_0', 'M'],\n [23.176943861437188, 'T_Mercury_Taurus', 'N_Mars_0', 'M'],\n [23.197703767137536, 'T_Mercury_Taurus', 'N_Mars_0', 'Z'],\n [23.361029304510865, 'S_Pars Fortuna_90', 'N_Jupiter_0', 'M'],\n [23.484615924916653, 'D_Moon_90', 'N_Asc_0', 'Z'],\n [23.612914741484477, 'T_Venus_Capricorn', 'N_Moon_0', 'Z'],\n [23.95999353978577, 'D_Jupiter_120', 'N_Sun_0', 'Z'],\n [23.989262453745813, 'N_Sun_180', 'N_Asc_0', 'M'],\n [23.989311175827073, 'N_Sun_180', 'N_Asc_0', 'Z'],\n [24.00175500276197, 'S_Venus_60', 'N_Pars Fortuna_0', 'Z'],\n [24.00919481119935, 'S_Venus_60', 'N_Pars Fortuna_0', 'M'],\n [24.107128773040436, 'D_Jupiter_120', 'N_Sun_0', 'M'],\n [24.269612897011868, 'N_Moon_180', 'N_MC_0', 'M'],\n [24.596814726620792, 'N_Moon_180', 'N_MC_0', 'Z'],\n [24.734312271036128, 'A_Venus', 'N_Jupiter_0', 'Z'],\n [24.953705375417965, 'D_Mars_90', 'N_Moon_0', 'M'],\n [25.04063330261117, 'S_Sun_90', 'N_MC_0', 'M'],\n [25.040641817536837, 'S_Sun_90', 'N_MC_0', 'Z'],\n [25.08240870943951, 'A_Venus', 'N_Jupiter_0', 'M'],\n [25.118901279959964, 'D_Saturn_90', 'N_Jupiter_0', 'M'],\n [25.242237455737055, 'D_Saturn_90', 'N_Jupiter_0', 'Z'],\n [26.35600183384534, 'T_Saturn_Gemini', 'N_MC_0', 'M'],\n [26.35600183384534, 'T_Saturn_Gemini', 'N_MC_0', 'Z'],\n [26.36623009592578, 'T_Mercury_Capricorn', 'N_Saturn_0', 'M'],\n [26.41681920690885, 'D_Mars_90', 'N_Moon_0', 'Z'],\n [26.563451977159264, 'S_Moon_90', 'N_Mercury_0', 'Z'],\n [26.8921488394087, 'T_Mercury_Capricorn', 'N_Saturn_0', 'Z'],\n [27.06385142240878, 'N_Sun_0', 'N_Mercury_0', 'Z'],\n [27.146395297904085, 'D_Mercury_60', 'N_Saturn_0', 'M'],\n [27.257336176449204, 'N_Mars_0', 'N_Sun_0', 'M'],\n [27.310446612634983, 'N_Mars_0', 'N_Sun_0', 'Z'],\n [27.671693415488814, 'T_Venus_Virgo', 'N_Jupiter_0', 'Z'],\n [27.78163008726949, 'D_Mercury_60', 'N_Saturn_0', 'Z'],\n [27.804997637608352, 'N_Sun_0', 'N_Mercury_0', 'M'],\n [27.991723514046683, 'S_Venus_60', 'N_MC_0', 'Z'],\n [27.995472611647887, 'S_Venus_60', 'N_MC_0', 'M'],\n [27.995531320302636, 'T_Venus_Virgo', 'N_Jupiter_0', 'M'],\n [28.32777243412104, 'T_Venus_Scorpio', 'N_North Node_0', 'M'],\n [28.32777243412104, 'T_Venus_Scorpio', 'N_North Node_0', 'Z'],\n [28.422955713406623, 'T_Saturn_Taurus', 'N_Venus_0', 'M'],\n [28.434539433695193, 'T_Saturn_Taurus', 'N_Venus_0', 'Z'],\n [28.852981051598363, 'S_Moon_90', 'N_Mercury_0', 'M'],\n [28.898437366490757, 'T_Mars_Cancer', 'N_Pars Fortuna_0', 'M'],\n [28.898437366490757, 'T_Mars_Cancer', 'N_Pars Fortuna_0', 'Z'],\n [29.29116246671812, 'S_Sun_60', 'N_Venus_0', 'M'],\n [29.302761394159667, 'S_Sun_60', 'N_Venus_0', 'Z'],\n [29.427376669630977, 'D_Jupiter_90', 'N_Mars_0', 'Z'],\n [29.44311168594783, 'T_Mercury_Taurus', 'N_South Node_0', 'M'],\n [29.44311168594783, 'T_Mercury_Taurus', 'N_South Node_0', 'Z'],\n [29.465594897904136, 'D_Jupiter_90', 'N_Mars_0', 'M'],\n [29.78787238306977, 'S_Mercury_120', 'N_Pars Fortuna_0', 'Z'],\n [29.80160112534116, 'T_Jupiter_Taurus', 'N_Mars_0', 'M'],\n [29.82269447173852, 'T_Jupiter_Taurus', 'N_Mars_0', 'Z'],\n [29.846622204342403, 'S_Mercury_120', 'N_Pars Fortuna_0', 'M']]"
     },
     "execution_count": 4,
     "metadata": {},
     "output_type": "execute_result"
    }
   ],
   "source": [
    "from flatlib import const\n",
    "from flatlib.chart import Chart\n",
    "from flatlib.datetime import Datetime\n",
    "from flatlib.geopos import GeoPos\n",
    "from flatlib.predictives import primarydirections\n",
    "\n",
    "\n",
    "# Build a chart for a date and location\n",
    "date = Datetime('2015/03/13', '17:00', '+00:00')\n",
    "pos = GeoPos('38n32', '8w54')\n",
    "chart = Chart(date, pos)\n",
    "\n",
    "# MC will be used for calculating arcs\n",
    "mc = chart.get(const.MC)\n",
    "\n",
    "# Get a promissor and significator\n",
    "prom = chart.get(const.MARS)\n",
    "sig = chart.get(const.MERCURY)\n",
    "\n",
    "# Compute arc in zodiaco (zerolat = True)\n",
    "arc = primarydirections.getArc(prom, sig, mc, pos, zerolat=True)\n",
    "print(arc)  # 56.17347\n",
    "\n",
    "# Compute arc in mundo\n",
    "arc = primarydirections.getArc(prom, sig, mc, pos, zerolat=False)\n",
    "print(arc)  # 56.74266\n",
    "\n",
    "# Create Primary Directions class\n",
    "from flatlib.predictives.primarydirections import PrimaryDirections\n",
    "pd = PrimaryDirections(chart)\n",
    "\n",
    "# Get arcs\n",
    "arc = pd.getArc(pd.N(const.MARS), pd.N(const.MERCURY))\n",
    "print(arc['arcm'])  # 56.74266 (arc in-mundo)\n",
    "print(arc['arcz'])  # 56.17347 (arc in-zodiaco)\n",
    "\n",
    "# Create Primary Directions table class\n",
    "from flatlib.predictives.primarydirections import PDTable\n",
    "pd = PDTable(chart, const.MAJOR_ASPECTS)\n",
    "pd.byPromissor(const.MARS)  # List all directions by promissor\n",
    "pd.bySignificator(const.MERCURY)  # List all directions by significator\n",
    "pd.view(20, 30)  # List all directions between 20 and 30 of arc"
   ],
   "metadata": {
    "collapsed": false
   }
  },
  {
   "cell_type": "code",
   "execution_count": 5,
   "outputs": [
    {
     "name": "stdout",
     "output_type": "stream",
     "text": [
      "<Moon Sun 90 Applicative +00:24:31>\n"
     ]
    }
   ],
   "source": [
    "\"\"\"\n",
    "    Author: João Ventura <flatangleweb@gmail.com>\n",
    "\n",
    "\n",
    "    This recipe shows sample code for handling\n",
    "    aspects.\n",
    "\"\"\"\n",
    "\n",
    "from flatlib import aspects\n",
    "from flatlib import const\n",
    "from flatlib.chart import Chart\n",
    "from flatlib.datetime import Datetime\n",
    "from flatlib.geopos import GeoPos\n",
    "\n",
    "\n",
    "# Build a chart for a date and location\n",
    "date = Datetime('2015/03/13', '17:00', '+00:00')\n",
    "pos = GeoPos('38n32', '8w54')\n",
    "chart = Chart(date, pos)\n",
    "\n",
    "# Retrieve the Sun and Moon\n",
    "sun = chart.get(const.SUN)\n",
    "moon = chart.get(const.MOON)\n",
    "\n",
    "# Get the aspect\n",
    "aspect = aspects.getAspect(sun, moon, const.MAJOR_ASPECTS)\n",
    "print(aspect)     # <Moon Sun 90 Applicative +00:24:30>"
   ],
   "metadata": {
    "collapsed": false
   }
  },
  {
   "cell_type": "code",
   "execution_count": 2,
   "outputs": [
    {
     "name": "stdout",
     "output_type": "stream",
     "text": [
      "['Planets in House1 or Conj Asc', ['Syzygy']]\n",
      "['Planets Conj Moon or Mercury', []]\n",
      "['Asc Ruler if aspected by its disposer', []]\n",
      "['Planets Asp Moon or Mercury', ['Venus', 'Sun', 'Jupiter', 'Mars', 'Moon', 'Saturn']]\n"
     ]
    }
   ],
   "source": [
    "\"\"\"\n",
    "    Author: João Ventura <flatangleweb@gmail.com>\n",
    "\n",
    "\n",
    "    This recipe shows sample code for computing\n",
    "    the temperament protocol.\n",
    "\"\"\"\n",
    "\n",
    "from flatlib import const\n",
    "from flatlib.chart import Chart\n",
    "from flatlib.datetime import Datetime\n",
    "from flatlib.geopos import GeoPos\n",
    "from flatlib.protocols import behavior\n",
    "\n",
    "\n",
    "# Build a chart for a date and location\n",
    "date = Datetime('2015/03/13', '17:00', '+00:00')\n",
    "pos = GeoPos('38n32', '8w54')\n",
    "chart = Chart(date, pos)\n",
    "\n",
    "# Behavior\n",
    "factors = behavior.compute(chart)\n",
    "for factor in factors:\n",
    "    print(factor)"
   ],
   "metadata": {
    "collapsed": false
   }
  },
  {
   "cell_type": "code",
   "execution_count": 5,
   "outputs": [
    {
     "name": "stdout",
     "output_type": "stream",
     "text": [
      "<Asc Virgo +03:27:30>\n"
     ]
    }
   ],
   "source": [
    "asc = chart.get(const.ASC)\n",
    "print(asc)"
   ],
   "metadata": {
    "collapsed": false
   }
  },
  {
   "cell_type": "code",
   "execution_count": 6,
   "outputs": [
    {
     "name": "stdout",
     "output_type": "stream",
     "text": [
      "<Sun Pisces +22:47:25 +00:59:51>\n",
      "<Moon Sagittarius +22:22:54 +13:16:01>\n",
      "<Mercury Pisces +00:48:57 +01:29:49>\n",
      "<Venus Aries +25:30:11 +01:12:41>\n",
      "<Mars Aries +16:32:48 +00:45:18>\n",
      "<Jupiter Leo +13:38:37 -00:04:45>\n",
      "<Saturn Sagittarius +04:55:45 +00:00:06>\n",
      "<North Node Libra +11:08:28 -00:03:11>\n",
      "<South Node Aries +11:08:28 -00:03:11>\n",
      "<Syzygy Virgo +14:50:23 +11:48:44>\n",
      "<Pars Fortuna Gemini +03:03:00 +00:00:00>\n"
     ]
    }
   ],
   "source": [
    "for obj in chart.objects:\n",
    "    print(obj)"
   ],
   "metadata": {
    "collapsed": false
   }
  },
  {
   "cell_type": "code",
   "execution_count": null,
   "outputs": [],
   "source": [],
   "metadata": {
    "collapsed": false
   }
  }
 ],
 "metadata": {
  "kernelspec": {
   "display_name": "Python 3",
   "language": "python",
   "name": "python3"
  },
  "language_info": {
   "codemirror_mode": {
    "name": "ipython",
    "version": 2
   },
   "file_extension": ".py",
   "mimetype": "text/x-python",
   "name": "python",
   "nbconvert_exporter": "python",
   "pygments_lexer": "ipython2",
   "version": "2.7.6"
  }
 },
 "nbformat": 4,
 "nbformat_minor": 0
}
